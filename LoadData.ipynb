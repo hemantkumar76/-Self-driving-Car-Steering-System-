{
 "cells": [
  {
   "cell_type": "code",
   "execution_count": 37,
   "metadata": {},
   "outputs": [],
   "source": [
    "import numpy as np\n",
    "import cv2\n",
    "# vision ke liye import karna hai\n",
    "import pickle\n",
    "import csv\n",
    "import matplotlib.pyplot as plt\n",
    "import os"
   ]
  },
  {
   "cell_type": "code",
   "execution_count": 38,
   "metadata": {},
   "outputs": [],
   "source": [
    "#image features\n",
    "feature_ka_directory = './driving_dataset/data/'\n",
    "#csv file ka log dalte ahi \n",
    "label_ka_file = './driving_dataset/data.txt'"
   ]
  },
  {
   "cell_type": "code",
   "execution_count": 39,
   "metadata": {},
   "outputs": [],
   "source": [
    "#image preeprocessing karte hai that is image ko HSV color space me convert karte hai\n",
    "def preprocess(img):\n",
    "    resized = cv2.resize((cv2.cvtColor(img, cv2.COLOR_RGB2HSV))[:, :, 1], (40, 40))\n",
    "    return resized"
   ]
  },
  {
   "cell_type": "code",
   "execution_count": 40,
   "metadata": {},
   "outputs": [],
   "source": [
    "def data_loading():\n",
    "    features = []\n",
    "    labels = []\n",
    "    with open(label_ka_file, 'rt') as f:\n",
    "        for line in f:\n",
    "            if line.strip():  # Ensure that the line is not empty\n",
    "                parts = line.strip().split()\n",
    "                img_path, angle = parts[0], parts[1].split(',')[0]  # Assuming the format is 'filename.jpg angle,timestamp'\n",
    "                full_path = os.path.join(feature_ka_directory, img_path)\n",
    "                img = plt.imread(full_path)\n",
    "                features.append(preprocess(img))\n",
    "                labels.append(float(angle) * np.pi / 180)  # Convert degrees to radians if necessary\n",
    "\n",
    "    return features, labels"
   ]
  },
  {
   "cell_type": "code",
   "execution_count": 41,
   "metadata": {},
   "outputs": [],
   "source": [
    "# basically humlog data (image data) ko preprocess kar rhe hai from csv file of data to adjust camera views \n",
    "#labels adjust karte hai \n",
    "delta = 0.2\n",
    "feature, labels = data_loading()  \n",
    "\n",
    "features = np.array(feature).astype('float32')\n",
    "labels = np.array(labels).astype('float32')\n",
    "\n",
    "#protocol 4 use kiye kyu so that humara data latest version of pickle me save ho \n",
    "with open(\"feature_file\", \"wb\") as f:\n",
    "    pickle.dump(feature, f, protocol=4)\n",
    "with open(\"labels\", \"wb\") as f:\n",
    "    pickle.dump(labels, f, protocol=4)"
   ]
  }
 ],
 "metadata": {
  "kernelspec": {
   "display_name": "base",
   "language": "python",
   "name": "python3"
  },
  "language_info": {
   "codemirror_mode": {
    "name": "ipython",
    "version": 3
   },
   "file_extension": ".py",
   "mimetype": "text/x-python",
   "name": "python",
   "nbconvert_exporter": "python",
   "pygments_lexer": "ipython3",
   "version": "3.11.5"
  }
 },
 "nbformat": 4,
 "nbformat_minor": 2
}
