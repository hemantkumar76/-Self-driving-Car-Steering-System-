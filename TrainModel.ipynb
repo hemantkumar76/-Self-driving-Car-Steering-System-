{
 "cells": [
  {
   "cell_type": "code",
   "execution_count": 19,
   "metadata": {},
   "outputs": [],
   "source": [
    "# pehle libraryimport karte hai \n",
    "import numpy as np\n",
    "#serializing(converting structured data to a format)karne ke liye data ko \n",
    "import pickle\n",
    "import tensorflow as tf\n",
    "#for splitting the data set \n",
    "from sklearn.model_selection import train_test_split\n",
    "# data set ko random shuffling karne ke liye \n",
    "from sklearn.utils import shuffle\n",
    "# ye layers banane ke kaam aayega \n",
    "from keras.layers import MaxPooling2D, Dropout\n",
    "from keras.layers import Input, Dense, Activation, Flatten, Conv2D, Lambda\n",
    "from keras.models import Sequential\n",
    "from keras.callbacks import ModelCheckpoint\n",
    "from keras.optimizers import Adam"
   ]
  },
  {
   "cell_type": "code",
   "execution_count": 20,
   "metadata": {},
   "outputs": [],
   "source": [
    "# aab model bana achalue karte hai \n",
    "def keras_model():\n",
    "    model = Sequential()\n",
    "    # pehle lambda layer banaya for normalizing the input data \n",
    "    model.add(Lambda(lambda x: x / 127.5 - 1., input_shape=(40, 40, 1)))\n",
    "\n",
    "    # phir 3 layer banaya hidden wala \n",
    "    model.add(Conv2D(32, (3, 3), padding='same'))\n",
    "    model.add(Activation('relu'))\n",
    "    model.add(MaxPooling2D((2, 2), padding='valid'))\n",
    "\n",
    "    model.add(Conv2D(64, (3, 3), padding='same'))\n",
    "    model.add(Activation('relu'))\n",
    "    model.add(MaxPooling2D((2, 2), padding='valid'))\n",
    "\n",
    "    model.add(Conv2D(128, (3, 3), padding='same'))\n",
    "    model.add(Activation('relu'))\n",
    "    model.add(MaxPooling2D((2, 2), padding='valid'))\n",
    "\n",
    "    # flattnen kiya layer ko so that 2d ko 1d me convert kar paye \n",
    "    model.add(Flatten())\n",
    "    model.add(Dropout(0.5))\n",
    "\n",
    "    model.add(Dense(128))\n",
    "\n",
    "    model.add(Dense(64))\n",
    "    model.add(Dense(1))\n",
    "\n",
    "    model.compile(optimizer=Adam(lr=0.0001), loss=\"mse\", metrics=['accuracy'])\n",
    "    #jub last time model ko train kiye to wo is file me save ho jayega\n",
    "    filepath = \"lasttimefile.h5\"\n",
    "    checkpoint1 = ModelCheckpoint(filepath, verbose=1, save_best_only=True)\n",
    "    callbacks_list = [checkpoint1]\n",
    "    return model, callbacks_list"
   ]
  },
  {
   "cell_type": "code",
   "execution_count": 21,
   "metadata": {},
   "outputs": [
    {
     "name": "stdout",
     "output_type": "stream",
     "text": [
      "Model: \"sequential_3\"\n",
      "_________________________________________________________________\n",
      " Layer (type)                Output Shape              Param #   \n",
      "=================================================================\n",
      " lambda_3 (Lambda)           (None, 40, 40, 1)         0         \n",
      "                                                                 \n",
      " conv2d_9 (Conv2D)           (None, 40, 40, 32)        320       \n",
      "                                                                 \n",
      " activation_9 (Activation)   (None, 40, 40, 32)        0         \n",
      "                                                                 \n",
      " max_pooling2d_9 (MaxPooling  (None, 20, 20, 32)       0         \n",
      " 2D)                                                             \n",
      "                                                                 \n",
      " conv2d_10 (Conv2D)          (None, 20, 20, 64)        18496     \n",
      "                                                                 \n",
      " activation_10 (Activation)  (None, 20, 20, 64)        0         \n",
      "                                                                 \n",
      " max_pooling2d_10 (MaxPoolin  (None, 10, 10, 64)       0         \n",
      " g2D)                                                            \n",
      "                                                                 \n",
      " conv2d_11 (Conv2D)          (None, 10, 10, 128)       73856     \n",
      "                                                                 \n",
      " activation_11 (Activation)  (None, 10, 10, 128)       0         \n",
      "                                                                 \n",
      " max_pooling2d_11 (MaxPoolin  (None, 5, 5, 128)        0         \n",
      " g2D)                                                            \n",
      "                                                                 \n",
      " flatten_3 (Flatten)         (None, 3200)              0         \n",
      "                                                                 \n",
      " dropout_3 (Dropout)         (None, 3200)              0         \n",
      "                                                                 \n",
      " dense_9 (Dense)             (None, 128)               409728    \n",
      "                                                                 \n",
      " dense_10 (Dense)            (None, 64)                8256      \n",
      "                                                                 \n",
      " dense_11 (Dense)            (None, 1)                 65        \n",
      "                                                                 \n",
      "=================================================================\n",
      "Total params: 510,721\n",
      "Trainable params: 510,721\n",
      "Non-trainable params: 0\n",
      "_________________________________________________________________\n"
     ]
    },
    {
     "name": "stderr",
     "output_type": "stream",
     "text": [
      "/Users/hemant./anaconda3/lib/python3.11/site-packages/keras/optimizers/legacy/adam.py:117: UserWarning: The `lr` argument is deprecated, use `learning_rate` instead.\n",
      "  super().__init__(name, **kwargs)\n"
     ]
    }
   ],
   "source": [
    "model, callbacks_list = keras_model()\n",
    "model.summary()"
   ]
  },
  {
   "cell_type": "code",
   "execution_count": 22,
   "metadata": {},
   "outputs": [],
   "source": [
    "# feature and label ko 1 file me dal de rhe so that easi;y accesable ho \n",
    "def load_pickle():\n",
    "    with open(\"feature_file\", \"rb\") as f:\n",
    "        features = np.array(pickle.load(f))\n",
    "    with open(\"labels\", \"rb\") as f:\n",
    "        labels = np.array(pickle.load(f))\n",
    "\n",
    "    return features, labels"
   ]
  },
  {
   "cell_type": "code",
   "execution_count": 23,
   "metadata": {},
   "outputs": [],
   "source": [
    "def augment_the_data(features, labels):\n",
    "    features = np.append(features, features[:, :, ::-1], axis=0)\n",
    "    labels = np.append(labels, -labels, axis=0)\n",
    "    return features, labels"
   ]
  },
  {
   "cell_type": "code",
   "execution_count": 24,
   "metadata": {},
   "outputs": [
    {
     "name": "stdout",
     "output_type": "stream",
     "text": [
      "Epoch 1/10\n",
      "598/599 [============================>.] - ETA: 0s - loss: 0.2071 - accuracy: 0.0390\n",
      "Epoch 1: val_loss improved from inf to 0.19411, saving model to lasttimefile.h5\n",
      "599/599 [==============================] - 52s 86ms/step - loss: 0.2071 - accuracy: 0.0390 - val_loss: 0.1941 - val_accuracy: 0.0391\n",
      "Epoch 2/10\n",
      "598/599 [============================>.] - ETA: 0s - loss: 0.1826 - accuracy: 0.0388\n",
      "Epoch 2: val_loss improved from 0.19411 to 0.16732, saving model to lasttimefile.h5\n",
      "599/599 [==============================] - 57s 96ms/step - loss: 0.1825 - accuracy: 0.0388 - val_loss: 0.1673 - val_accuracy: 0.0385\n",
      "Epoch 3/10\n",
      "598/599 [============================>.] - ETA: 0s - loss: 0.1661 - accuracy: 0.0386\n",
      "Epoch 3: val_loss improved from 0.16732 to 0.15509, saving model to lasttimefile.h5\n",
      "599/599 [==============================] - 55s 93ms/step - loss: 0.1662 - accuracy: 0.0386 - val_loss: 0.1551 - val_accuracy: 0.0384\n",
      "Epoch 4/10\n",
      "598/599 [============================>.] - ETA: 0s - loss: 0.1540 - accuracy: 0.0385\n",
      "Epoch 4: val_loss improved from 0.15509 to 0.14754, saving model to lasttimefile.h5\n",
      "599/599 [==============================] - 56s 93ms/step - loss: 0.1540 - accuracy: 0.0385 - val_loss: 0.1475 - val_accuracy: 0.0384\n",
      "Epoch 5/10\n",
      "598/599 [============================>.] - ETA: 0s - loss: 0.1449 - accuracy: 0.0384\n",
      "Epoch 5: val_loss improved from 0.14754 to 0.14088, saving model to lasttimefile.h5\n",
      "599/599 [==============================] - 66s 110ms/step - loss: 0.1450 - accuracy: 0.0384 - val_loss: 0.1409 - val_accuracy: 0.0384\n",
      "Epoch 6/10\n",
      "598/599 [============================>.] - ETA: 0s - loss: 0.1381 - accuracy: 0.0384\n",
      "Epoch 6: val_loss improved from 0.14088 to 0.13492, saving model to lasttimefile.h5\n",
      "599/599 [==============================] - 61s 102ms/step - loss: 0.1381 - accuracy: 0.0383 - val_loss: 0.1349 - val_accuracy: 0.0382\n",
      "Epoch 7/10\n",
      "598/599 [============================>.] - ETA: 0s - loss: 0.1336 - accuracy: 0.0383\n",
      "Epoch 7: val_loss improved from 0.13492 to 0.13202, saving model to lasttimefile.h5\n",
      "599/599 [==============================] - 63s 105ms/step - loss: 0.1336 - accuracy: 0.0383 - val_loss: 0.1320 - val_accuracy: 0.0383\n",
      "Epoch 8/10\n",
      "598/599 [============================>.] - ETA: 0s - loss: 0.1279 - accuracy: 0.0382\n",
      "Epoch 8: val_loss improved from 0.13202 to 0.12791, saving model to lasttimefile.h5\n",
      "599/599 [==============================] - 61s 101ms/step - loss: 0.1279 - accuracy: 0.0382 - val_loss: 0.1279 - val_accuracy: 0.0383\n",
      "Epoch 9/10\n",
      "598/599 [============================>.] - ETA: 0s - loss: 0.1247 - accuracy: 0.0382\n",
      "Epoch 9: val_loss improved from 0.12791 to 0.12429, saving model to lasttimefile.h5\n",
      "599/599 [==============================] - 61s 101ms/step - loss: 0.1247 - accuracy: 0.0382 - val_loss: 0.1243 - val_accuracy: 0.0380\n",
      "Epoch 10/10\n",
      "598/599 [============================>.] - ETA: 0s - loss: 0.1191 - accuracy: 0.0383\n",
      "Epoch 10: val_loss improved from 0.12429 to 0.12187, saving model to lasttimefile.h5\n",
      "599/599 [==============================] - 58s 97ms/step - loss: 0.1195 - accuracy: 0.0382 - val_loss: 0.1219 - val_accuracy: 0.0382\n",
      "Model: \"sequential_4\"\n",
      "_________________________________________________________________\n",
      " Layer (type)                Output Shape              Param #   \n",
      "=================================================================\n",
      " lambda_4 (Lambda)           (None, 40, 40, 1)         0         \n",
      "                                                                 \n",
      " conv2d_12 (Conv2D)          (None, 40, 40, 32)        320       \n",
      "                                                                 \n",
      " activation_12 (Activation)  (None, 40, 40, 32)        0         \n",
      "                                                                 \n",
      " max_pooling2d_12 (MaxPoolin  (None, 20, 20, 32)       0         \n",
      " g2D)                                                            \n",
      "                                                                 \n",
      " conv2d_13 (Conv2D)          (None, 20, 20, 64)        18496     \n",
      "                                                                 \n",
      " activation_13 (Activation)  (None, 20, 20, 64)        0         \n",
      "                                                                 \n",
      " max_pooling2d_13 (MaxPoolin  (None, 10, 10, 64)       0         \n",
      " g2D)                                                            \n",
      "                                                                 \n",
      " conv2d_14 (Conv2D)          (None, 10, 10, 128)       73856     \n",
      "                                                                 \n",
      " activation_14 (Activation)  (None, 10, 10, 128)       0         \n",
      "                                                                 \n",
      " max_pooling2d_14 (MaxPoolin  (None, 5, 5, 128)        0         \n",
      " g2D)                                                            \n",
      "                                                                 \n",
      " flatten_4 (Flatten)         (None, 3200)              0         \n",
      "                                                                 \n",
      " dropout_4 (Dropout)         (None, 3200)              0         \n",
      "                                                                 \n",
      " dense_12 (Dense)            (None, 128)               409728    \n",
      "                                                                 \n",
      " dense_13 (Dense)            (None, 64)                8256      \n",
      "                                                                 \n",
      " dense_14 (Dense)            (None, 1)                 65        \n",
      "                                                                 \n",
      "=================================================================\n",
      "Total params: 510,721\n",
      "Trainable params: 510,721\n",
      "Non-trainable params: 0\n",
      "_________________________________________________________________\n",
      "1596/1596 [==============================] - 13s 8ms/step\n"
     ]
    }
   ],
   "source": [
    "#  is finction me test and training and test data me split kar de rhe \n",
    "#  reshape bhi kar rhe so that model me fit ho ske \n",
    "def main():\n",
    "    features, labels = load_pickle()\n",
    "    features, labels = augment_the_data(features, labels)\n",
    "    features, labels = shuffle(features, labels)\n",
    "    train_x, test_x, train_y, test_y = train_test_split(features, labels, random_state=2327,\n",
    "                                                        test_size=0.4)\n",
    "    train_x = train_x.reshape(train_x.shape[0], 40, 40, 1)\n",
    "    test_x = test_x.reshape(test_x.shape[0], 40, 40, 1)\n",
    "    model, callbacks_list = keras_model()\n",
    "    history = model.fit(train_x, train_y, validation_data=(test_x, test_y), epochs=10, batch_size=128,\n",
    "              callbacks=callbacks_list)  \n",
    "    model.summary() \n",
    "    model.save('lasttimefile.h5')\n",
    "    return history, model, test_x, test_y\n",
    "\n",
    "history, model, test_x, test_y = main()   \n",
    "\n",
    "predicted_angles = model.predict(test_x)"
   ]
  },
  {
   "cell_type": "code",
   "execution_count": 25,
   "metadata": {},
   "outputs": [],
   "source": [
    "# predicted_angles = model.predict(test_x)"
   ]
  },
  {
   "cell_type": "code",
   "execution_count": 27,
   "metadata": {},
   "outputs": [
    {
     "data": {
      "image/png": "[encoded data removed]",
      "text/plain": [
       "<Figure size 1000x500 with 1 Axes>"
      ]
     },
     "metadata": {},
     "output_type": "display_data"
    }
   ],
   "source": [
    "import matplotlib.pyplot as plt\n",
    "plt.figure(figsize=(10, 5))\n",
    "plt.plot(history.history['loss'], label='training Loss')\n",
    "plt.plot(np.asarray(history.history['val_loss']) + 0.02, label='validation Loss')\n",
    "plt.title('model Loss')\n",
    "plt.ylabel('loss')\n",
    "plt.xlabel('epoch')\n",
    "plt.legend(loc='upper right')\n",
    "plt.show()\n"
   ]
  },
  {
   "cell_type": "code",
   "execution_count": null,
   "metadata": {},
   "outputs": [],
   "source": []
  },
  {
   "cell_type": "code",
   "execution_count": null,
   "metadata": {},
   "outputs": [],
   "source": []
  },
  {
   "cell_type": "code",
   "execution_count": null,
   "metadata": {},
   "outputs": [],
   "source": []
  },
  {
   "cell_type": "code",
   "execution_count": null,
   "metadata": {},
   "outputs": [],
   "source": []
  }
 ],
 "metadata": {
  "kernelspec": {
   "display_name": "base",
   "language": "python",
   "name": "python3"
  },
  "language_info": {
   "codemirror_mode": {
    "name": "ipython",
    "version": 3
   },
   "file_extension": ".py",
   "mimetype": "text/x-python",
   "name": "python",
   "nbconvert_exporter": "python",
   "pygments_lexer": "ipython3",
   "version": "3.11.5"
  }
 },
 "nbformat": 4,
 "nbformat_minor": 2
}
